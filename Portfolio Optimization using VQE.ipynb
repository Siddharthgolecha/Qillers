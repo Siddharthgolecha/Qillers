{
 "cells": [
  {
   "cell_type": "markdown",
   "id": "5970493d",
   "metadata": {},
   "source": [
    "# Importing required libraries"
   ]
  },
  {
   "cell_type": "code",
   "execution_count": 10,
   "id": "c35fb6ce",
   "metadata": {},
   "outputs": [],
   "source": [
    "import pandas as pd\n",
    "import numpy as np\n",
    "import glob\n",
    "import matplotlib.pyplot as plt\n",
    "from qiskit import IBMQ, QuantumCircuit\n",
    "from qiskit.algorithms import VQE, NumPyMinimumEigensolver\n",
    "from qiskit.algorithms.optimizers import *\n",
    "from qiskit.circuit.library import TwoLocal\n",
    "from qiskit.utils import QuantumInstance\n",
    "from qiskit_finance.applications.optimization import PortfolioOptimization\n",
    "from qiskit_finance.data_providers import *\n",
    "from qiskit_optimization.algorithms import MinimumEigenOptimizer \n",
    "from qiskit_optimization.algorithms.optimization_algorithm import OptimizationResult\n",
    "from time import time\n",
    "from getpass import getpass\n",
    "from qiskit_optimization.converters.quadratic_program_to_qubo import QuadraticProgramToQubo"
   ]
  },
  {
   "cell_type": "markdown",
   "id": "8def939d",
   "metadata": {},
   "source": [
    "# Setting up backends"
   ]
  },
  {
   "cell_type": "markdown",
   "id": "72cb6f22",
   "metadata": {},
   "source": [
    "## Setting up IBM Backends"
   ]
  },
  {
   "cell_type": "code",
   "execution_count": 11,
   "id": "e2fb5d09",
   "metadata": {},
   "outputs": [
    {
     "name": "stderr",
     "output_type": "stream",
     "text": [
      "ibmqfactory.load_account:WARNING:2022-02-26 02:55:12,994: Credentials are already in use. The existing account in the session will be replaced.\n"
     ]
    },
    {
     "data": {
      "text/plain": [
       "[<AccountProvider for IBMQ(hub='ibm-q', group='open', project='main')>,\n",
       " <AccountProvider for IBMQ(hub='ibm-q-community', group='qhack-hackathon', project='7-qubit')>]"
      ]
     },
     "execution_count": 11,
     "metadata": {},
     "output_type": "execute_result"
    }
   ],
   "source": [
    "#Uncomment this line only when you are running it for the first time \n",
    "#IBMQ.save_account(getpass(\"Token: \")) \n",
    "\n",
    "IBMQ.load_account() # Load account from disk\n",
    "IBMQ.providers()    # List all available providers"
   ]
  },
  {
   "cell_type": "code",
   "execution_count": 12,
   "id": "a22de092",
   "metadata": {},
   "outputs": [],
   "source": [
    "provider = IBMQ.get_provider(hub='ibm-q-community',group='qhack-hackathon', project='7-qubit')\n",
    "backend_sim = provider.get_backend('ibmq_qasm_simulator') #IBM QASM Simulator\n",
    "backend_real = provider.get_backend('ibm_perth') #IBM Perth System"
   ]
  },
  {
   "cell_type": "markdown",
   "id": "0aa4447b",
   "metadata": {},
   "source": [
    "# Extracting our Data"
   ]
  },
  {
   "cell_type": "code",
   "execution_count": 13,
   "id": "50d52079",
   "metadata": {},
   "outputs": [
    {
     "data": {
      "text/html": [
       "<div>\n",
       "<style scoped>\n",
       "    .dataframe tbody tr th:only-of-type {\n",
       "        vertical-align: middle;\n",
       "    }\n",
       "\n",
       "    .dataframe tbody tr th {\n",
       "        vertical-align: top;\n",
       "    }\n",
       "\n",
       "    .dataframe thead th {\n",
       "        text-align: right;\n",
       "    }\n",
       "</style>\n",
       "<table border=\"1\" class=\"dataframe\">\n",
       "  <thead>\n",
       "    <tr style=\"text-align: right;\">\n",
       "      <th></th>\n",
       "      <th>Date</th>\n",
       "      <th>BAJAUTOFIN</th>\n",
       "      <th>HDFC</th>\n",
       "      <th>ITC</th>\n",
       "      <th>TELCO</th>\n",
       "    </tr>\n",
       "  </thead>\n",
       "  <tbody>\n",
       "    <tr>\n",
       "      <th>0</th>\n",
       "      <td>2000-01-03</td>\n",
       "      <td>50.75</td>\n",
       "      <td>293.50</td>\n",
       "      <td>708.50</td>\n",
       "      <td>216.75</td>\n",
       "    </tr>\n",
       "    <tr>\n",
       "      <th>1</th>\n",
       "      <td>2000-01-04</td>\n",
       "      <td>48.10</td>\n",
       "      <td>304.05</td>\n",
       "      <td>712.35</td>\n",
       "      <td>208.20</td>\n",
       "    </tr>\n",
       "    <tr>\n",
       "      <th>2</th>\n",
       "      <td>2000-01-05</td>\n",
       "      <td>44.60</td>\n",
       "      <td>292.80</td>\n",
       "      <td>726.20</td>\n",
       "      <td>213.25</td>\n",
       "    </tr>\n",
       "    <tr>\n",
       "      <th>3</th>\n",
       "      <td>2000-01-06</td>\n",
       "      <td>45.25</td>\n",
       "      <td>296.45</td>\n",
       "      <td>784.30</td>\n",
       "      <td>222.10</td>\n",
       "    </tr>\n",
       "    <tr>\n",
       "      <th>4</th>\n",
       "      <td>2000-01-07</td>\n",
       "      <td>42.90</td>\n",
       "      <td>286.55</td>\n",
       "      <td>847.05</td>\n",
       "      <td>239.90</td>\n",
       "    </tr>\n",
       "  </tbody>\n",
       "</table>\n",
       "</div>"
      ],
      "text/plain": [
       "        Date  BAJAUTOFIN    HDFC     ITC   TELCO\n",
       "0 2000-01-03       50.75  293.50  708.50  216.75\n",
       "1 2000-01-04       48.10  304.05  712.35  208.20\n",
       "2 2000-01-05       44.60  292.80  726.20  213.25\n",
       "3 2000-01-06       45.25  296.45  784.30  222.10\n",
       "4 2000-01-07       42.90  286.55  847.05  239.90"
      ]
     },
     "execution_count": 13,
     "metadata": {},
     "output_type": "execute_result"
    }
   ],
   "source": [
    "#Extracting our data from CSV files of real stocks prices of 4 random companies\n",
    "stocks_data = pd.DataFrame()\n",
    "for file in glob.glob(\"./Stock Market Data/*.csv\"):\n",
    "    stock = pd.read_csv(file)\n",
    "    if 'Date' not in stocks_data:\n",
    "        stocks_data['Date'] = stock['Date'].astype('datetime64') \n",
    "    stocks_data[stock['Symbol'][0]] = stock['Close'] #Considering closing amount to be the price \n",
    "    \n",
    "stocks_data.head() #Display top 5 rows"
   ]
  },
  {
   "cell_type": "code",
   "execution_count": 14,
   "id": "651a36a6",
   "metadata": {},
   "outputs": [],
   "source": [
    "days = 30 #Number of days before the last data to buy\n",
    "next_data = stocks_data.tail(days) #Data after number of days to check the future of portfolio\n",
    "prev_data = stocks_data.iloc[:-days , :] #Previous Data to analyize the stocks"
   ]
  },
  {
   "cell_type": "code",
   "execution_count": 15,
   "id": "53b2eb96",
   "metadata": {},
   "outputs": [
    {
     "data": {
      "text/html": [
       "<div>\n",
       "<style scoped>\n",
       "    .dataframe tbody tr th:only-of-type {\n",
       "        vertical-align: middle;\n",
       "    }\n",
       "\n",
       "    .dataframe tbody tr th {\n",
       "        vertical-align: top;\n",
       "    }\n",
       "\n",
       "    .dataframe thead th {\n",
       "        text-align: right;\n",
       "    }\n",
       "</style>\n",
       "<table border=\"1\" class=\"dataframe\">\n",
       "  <thead>\n",
       "    <tr style=\"text-align: right;\">\n",
       "      <th></th>\n",
       "      <th>Date</th>\n",
       "      <th>BAJAUTOFIN</th>\n",
       "      <th>HDFC</th>\n",
       "      <th>ITC</th>\n",
       "      <th>TELCO</th>\n",
       "    </tr>\n",
       "  </thead>\n",
       "  <tbody>\n",
       "    <tr>\n",
       "      <th>5200</th>\n",
       "      <td>2021-03-08</td>\n",
       "      <td>5320.65</td>\n",
       "      <td>2217.70</td>\n",
       "      <td>195.55</td>\n",
       "      <td>172.05</td>\n",
       "    </tr>\n",
       "    <tr>\n",
       "      <th>5201</th>\n",
       "      <td>2021-03-09</td>\n",
       "      <td>5415.05</td>\n",
       "      <td>2191.35</td>\n",
       "      <td>193.85</td>\n",
       "      <td>171.45</td>\n",
       "    </tr>\n",
       "    <tr>\n",
       "      <th>5202</th>\n",
       "      <td>2021-03-10</td>\n",
       "      <td>5545.05</td>\n",
       "      <td>2238.40</td>\n",
       "      <td>194.80</td>\n",
       "      <td>173.75</td>\n",
       "    </tr>\n",
       "    <tr>\n",
       "      <th>5203</th>\n",
       "      <td>2021-03-12</td>\n",
       "      <td>5557.85</td>\n",
       "      <td>2256.25</td>\n",
       "      <td>193.65</td>\n",
       "      <td>180.35</td>\n",
       "    </tr>\n",
       "    <tr>\n",
       "      <th>5204</th>\n",
       "      <td>2021-03-15</td>\n",
       "      <td>5439.05</td>\n",
       "      <td>2306.95</td>\n",
       "      <td>194.40</td>\n",
       "      <td>179.75</td>\n",
       "    </tr>\n",
       "  </tbody>\n",
       "</table>\n",
       "</div>"
      ],
      "text/plain": [
       "           Date  BAJAUTOFIN     HDFC     ITC   TELCO\n",
       "5200 2021-03-08     5320.65  2217.70  195.55  172.05\n",
       "5201 2021-03-09     5415.05  2191.35  193.85  171.45\n",
       "5202 2021-03-10     5545.05  2238.40  194.80  173.75\n",
       "5203 2021-03-12     5557.85  2256.25  193.65  180.35\n",
       "5204 2021-03-15     5439.05  2306.95  194.40  179.75"
      ]
     },
     "execution_count": 15,
     "metadata": {},
     "output_type": "execute_result"
    }
   ],
   "source": [
    "prev_data.tail() #Performace of companies prior to 5 days of buying"
   ]
  },
  {
   "cell_type": "code",
   "execution_count": 16,
   "id": "d080ad9c",
   "metadata": {},
   "outputs": [
    {
     "data": {
      "text/html": [
       "<div>\n",
       "<style scoped>\n",
       "    .dataframe tbody tr th:only-of-type {\n",
       "        vertical-align: middle;\n",
       "    }\n",
       "\n",
       "    .dataframe tbody tr th {\n",
       "        vertical-align: top;\n",
       "    }\n",
       "\n",
       "    .dataframe thead th {\n",
       "        text-align: right;\n",
       "    }\n",
       "</style>\n",
       "<table border=\"1\" class=\"dataframe\">\n",
       "  <thead>\n",
       "    <tr style=\"text-align: right;\">\n",
       "      <th></th>\n",
       "      <th>Date</th>\n",
       "      <th>BAJAUTOFIN</th>\n",
       "      <th>HDFC</th>\n",
       "      <th>ITC</th>\n",
       "      <th>TELCO</th>\n",
       "    </tr>\n",
       "  </thead>\n",
       "  <tbody>\n",
       "    <tr>\n",
       "      <th>5230</th>\n",
       "      <td>2021-04-26</td>\n",
       "      <td>4736.55</td>\n",
       "      <td>2661.35</td>\n",
       "      <td>202.80</td>\n",
       "      <td>196.75</td>\n",
       "    </tr>\n",
       "    <tr>\n",
       "      <th>5231</th>\n",
       "      <td>2021-04-27</td>\n",
       "      <td>4865.05</td>\n",
       "      <td>2657.50</td>\n",
       "      <td>201.50</td>\n",
       "      <td>198.15</td>\n",
       "    </tr>\n",
       "    <tr>\n",
       "      <th>5232</th>\n",
       "      <td>2021-04-28</td>\n",
       "      <td>5280.90</td>\n",
       "      <td>2751.20</td>\n",
       "      <td>202.50</td>\n",
       "      <td>220.65</td>\n",
       "    </tr>\n",
       "    <tr>\n",
       "      <th>5233</th>\n",
       "      <td>2021-04-29</td>\n",
       "      <td>5484.85</td>\n",
       "      <td>2747.55</td>\n",
       "      <td>206.45</td>\n",
       "      <td>237.80</td>\n",
       "    </tr>\n",
       "    <tr>\n",
       "      <th>5234</th>\n",
       "      <td>2021-04-30</td>\n",
       "      <td>5451.90</td>\n",
       "      <td>2670.90</td>\n",
       "      <td>211.25</td>\n",
       "      <td>242.60</td>\n",
       "    </tr>\n",
       "  </tbody>\n",
       "</table>\n",
       "</div>"
      ],
      "text/plain": [
       "           Date  BAJAUTOFIN     HDFC     ITC   TELCO\n",
       "5230 2021-04-26     4736.55  2661.35  202.80  196.75\n",
       "5231 2021-04-27     4865.05  2657.50  201.50  198.15\n",
       "5232 2021-04-28     5280.90  2751.20  202.50  220.65\n",
       "5233 2021-04-29     5484.85  2747.55  206.45  237.80\n",
       "5234 2021-04-30     5451.90  2670.90  211.25  242.60"
      ]
     },
     "execution_count": 16,
     "metadata": {},
     "output_type": "execute_result"
    }
   ],
   "source": [
    "next_data.tail() #Performace of companies in last 5 days"
   ]
  },
  {
   "cell_type": "code",
   "execution_count": 39,
   "id": "8fe71cd1",
   "metadata": {},
   "outputs": [
    {
     "data": {
      "image/png": "[encoded data removed]",
      "text/plain": [
       "<Figure size 432x288 with 1 Axes>"
      ]
     },
     "metadata": {
      "needs_background": "light"
     },
     "output_type": "display_data"
    }
   ],
   "source": [
    "# Let's plot our finanical data\n",
    "\n",
    "for companies in prev_data:\n",
    "    if companies is not 'Date':\n",
    "        plt.plot(prev_data['Date'],prev_data[companies], label=companies)\n",
    "plt.legend()\n",
    "plt.xticks(rotation=90)\n",
    "plt.xlabel('Year')\n",
    "plt.ylabel('Stocks Value in Rs.')\n",
    "plt.title(f\"Graph of price of mentioned companies stocks till {prev_data['Date'].iloc[-1]}\")\n",
    "plt.savefig('share prices.png')\n",
    "plt.show()"
   ]
  },
  {
   "cell_type": "code",
   "execution_count": 18,
   "id": "8a111ef0",
   "metadata": {},
   "outputs": [],
   "source": [
    "prev_data_wo_date = prev_data.loc[:, prev_data.columns != 'Date'] #Deleting Date column from previous data\n",
    "\n",
    "prev_prices = prev_data_wo_date.tail(1).reset_index(drop=True) #Storing prices at the day they were bought\n",
    "\n",
    "prices_now = next_data.loc[:,next_data.columns != 'Date'].tail(1).reset_index(drop=True) #Current prices"
   ]
  },
  {
   "cell_type": "markdown",
   "id": "9508bd74",
   "metadata": {},
   "source": [
    "# Defining useful functions"
   ]
  },
  {
   "cell_type": "code",
   "execution_count": 19,
   "id": "7d60d48a",
   "metadata": {},
   "outputs": [],
   "source": [
    "def value_comparision(value_then: pd.DataFrame,\n",
    "                      value_now: pd.DataFrame\n",
    "                     )->None:\n",
    "    '''\n",
    "    Compares the values of stocks at the time of buying vs value of stocks now.\n",
    "    \n",
    "    Args:\n",
    "        value_then: Value of stocks at the time of buying\n",
    "        value_now: Value of stocks now\n",
    "    '''\n",
    "    profit = 0\n",
    "    for col in value_then:\n",
    "        diff = round(float(value_now[col]-value_then[col]),2)\n",
    "        profit += diff\n",
    "        perc = round(float(diff/value_then[col]*100),2)\n",
    "        print(f\"{str(col)}\\n{diff}({perc}%)\",end=\"\")\n",
    "        if diff > 0:\n",
    "            print(\"↑\")\n",
    "        elif diff==0:\n",
    "            print(\"-\")\n",
    "        else:\n",
    "            print(\"↓\")\n",
    "            \n",
    "    profit = round(profit,2)\n",
    "    if profit > 0:\n",
    "        print(f\"\\nYou gained a net profit of Rs.{profit}\")\n",
    "    elif profit==0:\n",
    "        print(\"You neither gained any profit nor loss\")\n",
    "    else:\n",
    "        print(f\"\\nYou incurred a net loss of Rs.{-profit}\")"
   ]
  },
  {
   "cell_type": "code",
   "execution_count": 37,
   "id": "2ca04291",
   "metadata": {},
   "outputs": [],
   "source": [
    "def analysis(result:OptimizationResult)->None:\n",
    "    '''\n",
    "    Presents the analysis of the result.\n",
    "    \n",
    "    Args:\n",
    "        result: Optimization Result of VQE \n",
    "    '''\n",
    "\n",
    "    print(result)\n",
    "    print(f\"\\nIt took {result.time_taken} seconds to optimize\")\n",
    "    stocks_count = np.array(result.x)\n",
    "    print(\"\\nValue of stocks(in Rs.) at the time of buying\")\n",
    "    value_then = prev_prices*stocks_count\n",
    "    print(value_then.to_string(index=False))\n",
    "    print(f\"You spent total Rs.{np.round(value_then.sum().sum(),2)}\")\n",
    "    print(\"\\nLatest value of stocks(in Rs.)\")\n",
    "    value_now = prices_now*stocks_count\n",
    "    print(value_now.to_string(index=False))\n",
    "    print(f\"Your stocks now value a total of Rs.{np.round(value_now.sum().sum(),2)}\\n\")\n",
    "    value_comparision(value_then,value_now)"
   ]
  },
  {
   "cell_type": "code",
   "execution_count": 21,
   "id": "45ab5e31",
   "metadata": {},
   "outputs": [],
   "source": [
    "def get_period_return(stocks: pd.DataFrame)->np.array:\n",
    "    '''\n",
    "    Returns the period return of the given stocks\n",
    "    \n",
    "    Args:\n",
    "        stocks: The Dataframe containing previous value of stocks of individual companies\n",
    "        \n",
    "    Returns:\n",
    "        The period return of different stocks.\n",
    "    '''\n",
    "    \n",
    "    def divide(val_1, val_2):\n",
    "        if val_2 == 0:\n",
    "            if val_1 == 0:\n",
    "                return 1\n",
    "            return np.nan\n",
    "        return val_1 / val_2\n",
    "    \n",
    "    f = np.vectorize(divide)\n",
    "    period_returns = f(stocks[:,1:], stocks[:,:-1]) - 1\n",
    "    return period_returns"
   ]
  },
  {
   "cell_type": "markdown",
   "id": "ce4417c0",
   "metadata": {},
   "source": [
    "# Formulating Quadratic Problem"
   ]
  },
  {
   "cell_type": "markdown",
   "id": "68da81ef",
   "metadata": {},
   "source": [
    "### Expected Return μ\n",
    "Expected return of a portfolio is the anticipated amount of returns that a portfolio may generate, making it the mean (average) of the portfolio's possible return distribution. "
   ]
  },
  {
   "cell_type": "code",
   "execution_count": 46,
   "id": "ad35f1f3",
   "metadata": {},
   "outputs": [
    {
     "name": "stdout",
     "output_type": "stream",
     "text": [
      "[0.00155306 0.00084072 0.00031728 0.00053247]\n"
     ]
    },
    {
     "data": {
      "text/html": [
       "<div>\n",
       "<style scoped>\n",
       "    .dataframe tbody tr th:only-of-type {\n",
       "        vertical-align: middle;\n",
       "    }\n",
       "\n",
       "    .dataframe tbody tr th {\n",
       "        vertical-align: top;\n",
       "    }\n",
       "\n",
       "    .dataframe thead th {\n",
       "        text-align: right;\n",
       "    }\n",
       "</style>\n",
       "<table border=\"1\" class=\"dataframe\">\n",
       "  <thead>\n",
       "    <tr style=\"text-align: right;\">\n",
       "      <th></th>\n",
       "      <th>BAJAUTOFIN</th>\n",
       "      <th>HDFC</th>\n",
       "      <th>ITC</th>\n",
       "      <th>TELCO</th>\n",
       "    </tr>\n",
       "  </thead>\n",
       "  <tbody>\n",
       "    <tr>\n",
       "      <th>0</th>\n",
       "      <td>0.001553</td>\n",
       "      <td>0.000841</td>\n",
       "      <td>0.000317</td>\n",
       "      <td>0.000532</td>\n",
       "    </tr>\n",
       "  </tbody>\n",
       "</table>\n",
       "</div>"
      ],
      "text/plain": [
       "   BAJAUTOFIN      HDFC       ITC     TELCO\n",
       "0    0.001553  0.000841  0.000317  0.000532"
      ]
     },
     "execution_count": 46,
     "metadata": {},
     "output_type": "execute_result"
    }
   ],
   "source": [
    "num_assets = 4           # Number of stocks we want to buy\n",
    "risk_factor = 0.5        # Risk factor of 0.5\n",
    "budget = 6              # Number of stocks we want to buy\n",
    "period_return = get_period_return(np.transpose(prev_data_wo_date.to_numpy()))\n",
    "mu = np.mean(period_return,axis=1) # Returns an array containing the mean value of each asset's expected return.\n",
    "print(mu)\n",
    "mu2 = pd.DataFrame(columns = prev_data_wo_date.columns)\n",
    "mu2.loc[len(mu2.index)] = mu\n",
    "mu2"
   ]
  },
  {
   "cell_type": "markdown",
   "id": "a01a7a32",
   "metadata": {},
   "source": [
    "### Covariance Matrix Σ\n",
    "Covariance Σ is a statistical measure of how two asset's mean returns vary with respect to each other and helps us understand the amount of risk involved from an investment portfolio's perspective to make an informed decision about buying or selling stocks."
   ]
  },
  {
   "cell_type": "code",
   "execution_count": 40,
   "id": "0e042946",
   "metadata": {},
   "outputs": [
    {
     "data": {
      "image/png": "[encoded data removed]",
      "text/plain": [
       "<Figure size 432x288 with 2 Axes>"
      ]
     },
     "metadata": {
      "needs_background": "light"
     },
     "output_type": "display_data"
    }
   ],
   "source": [
    "sigma = np.cov(period_return) #Returns the covariance matrix of the four assets\n",
    "\n",
    "#Let's plot the covariance matrix of the period return\n",
    "fig, ax = plt.subplots(1,1)\n",
    "im = plt.imshow(sigma, extent=[-1,1,-1,1])\n",
    "x_label_list = prev_data_wo_date.columns[::-1]\n",
    "y_label_list = prev_data_wo_date.columns[::-1]\n",
    "ax.set_xticks([-0.75,-0.25,0.25,0.75])\n",
    "ax.set_yticks([0.75,0.25,-0.25,-0.75])\n",
    "ax.set_xticklabels(x_label_list)\n",
    "ax.set_yticklabels(y_label_list)\n",
    "plt.colorbar()\n",
    "plt.clim(-6.0e-04, 6.0e-04)\n",
    "plt.savefig(\"sigma.png\")\n",
    "plt.show()"
   ]
  },
  {
   "attachments": {
    "download.png": {
     "image/png": "[encoded data removed]"
    }
   },
   "cell_type": "markdown",
   "id": "49ed779a",
   "metadata": {},
   "source": [
    "![download.png](attachment:download.png)\n",
    "Source: Qiskit Fall 2021 Challenge\n",
    "\n",
    "The left-to-right diagnoal values (yellow boxes in the figure below) show the relation of a stock with 'itself'. And the off-diagonal values show the deviation of each stock's mean expected return with respect to each other. "
   ]
  },
  {
   "cell_type": "code",
   "execution_count": 24,
   "id": "76e334f4",
   "metadata": {},
   "outputs": [
    {
     "name": "stdout",
     "output_type": "stream",
     "text": [
      "\\ This file has been generated by DOcplex\n",
      "\\ ENCODING=ISO-8859-1\n",
      "\\Problem name: Portfolio optimization\n",
      "\n",
      "Minimize\n",
      " obj: - 0.001553060696 x_0 - 0.000840716705 x_1 - 0.000317283236 x_2\n",
      "      - 0.000532465845 x_3 + [ 0.000939768541 x_0^2 + 0.000026287024 x_0*x_1\n",
      "      + 0.000016003558 x_0*x_2 + 0.000002630525 x_0*x_3 + 0.000685025443 x_1^2\n",
      "      + 0.000248013811 x_1*x_2 + 0.000414259249 x_1*x_3 + 0.000613056611 x_2^2\n",
      "      + 0.000325935287 x_2*x_3 + 0.000938512248 x_3^2 ]/2\n",
      "Subject To\n",
      " c0: x_0 + x_1 + x_2 + x_3 = 6\n",
      "\n",
      "Bounds\n",
      "       x_0 <= 3\n",
      "       x_1 <= 3\n",
      "       x_2 <= 3\n",
      "       x_3 <= 3\n",
      "\n",
      "Generals\n",
      " x_0 x_1 x_2 x_3\n",
      "End\n",
      "\n"
     ]
    }
   ],
   "source": [
    "bounds = [(0,budget//2) for i in range(num_assets) ]\n",
    "qp = PortfolioOptimization(mu, sigma, risk_factor,\n",
    "                           budget, bounds).to_quadratic_program()\n",
    "print(qp)"
   ]
  },
  {
   "cell_type": "markdown",
   "id": "1555a7db",
   "metadata": {},
   "source": [
    "## Solving the problem classically using NumPyMinimumEigensolver for reference"
   ]
  },
  {
   "cell_type": "code",
   "execution_count": 25,
   "id": "55b0d11e",
   "metadata": {},
   "outputs": [],
   "source": [
    "start = time()\n",
    "\n",
    "exact_mes = NumPyMinimumEigensolver()\n",
    "exact_eigensolver = MinimumEigenOptimizer(exact_mes)\n",
    "\n",
    "result_classical = exact_eigensolver.solve(qp)\n",
    "result_classical.time_taken = time()-start"
   ]
  },
  {
   "cell_type": "code",
   "execution_count": 26,
   "id": "d91552fa",
   "metadata": {},
   "outputs": [
    {
     "name": "stdout",
     "output_type": "stream",
     "text": [
      "optimal function value: -0.0007154826499364188\n",
      "optimal value: [2. 2. 1. 1.]\n",
      "status: SUCCESS\n",
      "\n",
      "It took 0.20679068565368652 seconds to optimize\n",
      "\n",
      "Value of stocks(in Rs.) at the time of buying\n",
      " BAJAUTOFIN    HDFC    ITC   TELCO\n",
      "    10878.1  4613.9  194.4  179.75\n",
      "You spent total Rs.15866.15\n",
      "\n",
      "Latest value of stocks(in Rs.)\n",
      " BAJAUTOFIN    HDFC     ITC  TELCO\n",
      "    10903.8  5341.8  211.25  242.6\n",
      "Your stocks now value a total of Rs.16699.45\n",
      "\n",
      "BAJAUTOFIN\n",
      "25.7(0.24%)↑\n",
      "HDFC\n",
      "727.9(15.78%)↑\n",
      "ITC\n",
      "16.85(8.67%)↑\n",
      "TELCO\n",
      "62.85(34.97%)↑\n",
      "\n",
      "You gained a net profit of Rs.833.3\n"
     ]
    }
   ],
   "source": [
    "analysis(result_classical)"
   ]
  },
  {
   "cell_type": "markdown",
   "id": "4b0234aa",
   "metadata": {},
   "source": [
    "## Solving the problem using VQE in Qiskit"
   ]
  },
  {
   "cell_type": "code",
   "execution_count": 27,
   "id": "d6dad3e7",
   "metadata": {},
   "outputs": [],
   "source": [
    "cobyla = COBYLA()\n",
    "cobyla.set_options(maxiter=50)\n",
    "circuit = TwoLocal(num_assets, 'ry', 'cz', reps=2, entanglement='sca') #Ansatz for the VQE"
   ]
  },
  {
   "cell_type": "code",
   "execution_count": 28,
   "id": "436a20df",
   "metadata": {},
   "outputs": [
    {
     "data": {
      "image/png": "[encoded data removed]",
      "text/plain": [
       "<Figure size 748.797x264.88 with 1 Axes>"
      ]
     },
     "execution_count": 28,
     "metadata": {},
     "output_type": "execute_result"
    }
   ],
   "source": [
    "circuit.decompose().draw(\"mpl\") #Displaying the Ansatz circuit"
   ]
  },
  {
   "cell_type": "code",
   "execution_count": 29,
   "id": "3404d613",
   "metadata": {},
   "outputs": [
    {
     "name": "stdout",
     "output_type": "stream",
     "text": [
      "-0.0014324213224949922 * ZIIIIIII\n",
      "- 0.0007162106612474961 * IZIIIIII\n",
      "+ 1.0291425509051495 * ZZIIIIII\n",
      "- 0.0010447661729795499 * IIZIIIII\n",
      "+ 2.0575095572057833 * ZIZIIIII\n",
      "+ 1.0287547786028917 * IZZIIIII\n",
      "- 0.0005223830864891088 * IIIZIIII\n",
      "+ 1.0287547786028917 * ZIIZIIII\n",
      "+ 0.5143773893014458 * IZIZIIII\n",
      "+ 1.028979823086664 * IIZZIIII\n",
      "- 0.0007032415227379296 * IIIIZIII\n",
      "+ 2.0575537191869544 * ZIIIZIII\n",
      "+ 1.0287768595934772 * IZIIZIII\n",
      "+ 2.057470596467865 * IIZIZIII\n",
      "+ 1.0287352982339324 * IIIZZIII\n",
      "- 0.0003516207613689648 * IIIIIZII\n",
      "+ 1.0287768595934772 * ZIIIIZII\n",
      "+ 0.5143884297967386 * IZIIIZII\n",
      "+ 1.0287352982339324 * IIZIIZII\n",
      "+ 0.5143676491169662 * IIIZIZII\n",
      "+ 1.0290158075027767 * IIIIZZII\n",
      "+ 0.00010971705397411213 * IIIIIIZI\n",
      "+ 2.0573479048248067 * ZIIIIIZI\n",
      "+ 1.0286739524124033 * IZIIIIZI\n",
      "+ 2.0573545913414986 * IIZIIIZI\n",
      "+ 1.0286772956707493 * IIIZIIZI\n",
      "+ 2.0573597330742035 * IIIIZIZI\n",
      "+ 1.0286798665371018 * IIIIIZZI\n",
      "+ 5.4858526987056067e-05 * IIIIIIIZ\n",
      "+ 1.0286739524124033 * ZIIIIIIZ\n",
      "+ 0.5143369762062017 * IZIIIIIZ\n",
      "+ 1.0286772956707493 * IIZIIIIZ\n",
      "+ 0.5143386478353746 * IIIZIIIZ\n",
      "+ 1.0286798665371018 * IIIIZIIZ\n",
      "+ 0.5143399332685509 * IIIIIZIZ\n",
      "+ 1.029143179051768 * IIIIIIZZ\n",
      "5.145222089795052\n"
     ]
    }
   ],
   "source": [
    "qubo = QuadraticProgramToQubo().convert(qp) #Converting the Quadratic Problem to QUBO Problem\n",
    "operator, offset = qubo.to_ising() #Converting the QUBO Problem to Ising Hamiltonian\n",
    "print(operator)\n",
    "print(offset)"
   ]
  },
  {
   "cell_type": "markdown",
   "id": "a2ae6b8f",
   "metadata": {},
   "source": [
    "### Running the VQE over IBM QASM Simulator"
   ]
  },
  {
   "cell_type": "code",
   "execution_count": 30,
   "id": "f7933224",
   "metadata": {},
   "outputs": [],
   "source": [
    "quantum_instance = QuantumInstance(backend=backend_sim)\n",
    "vqe_sim = VQE(circuit, optimizer=cobyla, quantum_instance=quantum_instance)"
   ]
  },
  {
   "cell_type": "code",
   "execution_count": 31,
   "id": "7a15c685",
   "metadata": {},
   "outputs": [],
   "source": [
    "start = time()\n",
    "vqe = MinimumEigenOptimizer(vqe_sim)\n",
    "result_ibm_sim = vqe.solve(qp)\n",
    "result_ibm_sim.time_taken = time()-start"
   ]
  },
  {
   "cell_type": "code",
   "execution_count": 38,
   "id": "94c83bbb",
   "metadata": {},
   "outputs": [
    {
     "name": "stdout",
     "output_type": "stream",
     "text": [
      "optimal function value: -0.0007154826499364188\n",
      "optimal value: [2. 2. 1. 1.]\n",
      "status: SUCCESS\n",
      "\n",
      "It took 2040.010134522 seconds to optimize\n",
      "\n",
      "Value of stocks(in Rs.) at the time of buying\n",
      " BAJAUTOFIN    HDFC    ITC   TELCO\n",
      "    10878.1  4613.9  194.4  179.75\n",
      "You spent total Rs.15866.15\n",
      "\n",
      "Latest value of stocks(in Rs.)\n",
      " BAJAUTOFIN    HDFC     ITC  TELCO\n",
      "    10903.8  5341.8  211.25  242.6\n",
      "Your stocks now value a total of Rs.16699.45\n",
      "\n",
      "BAJAUTOFIN\n",
      "25.7(0.24%)↑\n",
      "HDFC\n",
      "727.9(15.78%)↑\n",
      "ITC\n",
      "16.85(8.67%)↑\n",
      "TELCO\n",
      "62.85(34.97%)↑\n",
      "\n",
      "You gained a net profit of Rs.833.3\n"
     ]
    }
   ],
   "source": [
    "analysis(result_ibm_sim)"
   ]
  },
  {
   "cell_type": "markdown",
   "id": "eb5e6727",
   "metadata": {},
   "source": [
    "### Running the problem over IBM Perth Quantum System\n",
    "\n",
    "The Ising operator requires 8 qubits to fully run, but we only have access to 7 qubit IBM Perth System so we won't be able to run the VQE over actual IBM System."
   ]
  }
 ],
 "metadata": {
  "kernelspec": {
   "display_name": "Python 3 (ipykernel)",
   "language": "python",
   "name": "python3"
  },
  "language_info": {
   "codemirror_mode": {
    "name": "ipython",
    "version": 3
   },
   "file_extension": ".py",
   "mimetype": "text/x-python",
   "name": "python",
   "nbconvert_exporter": "python",
   "pygments_lexer": "ipython3",
   "version": "3.7.10"
  }
 },
 "nbformat": 4,
 "nbformat_minor": 5
}
